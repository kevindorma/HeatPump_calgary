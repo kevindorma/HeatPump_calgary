{
 "cells": [
  {
   "cell_type": "markdown",
   "metadata": {},
   "source": [
    "# Example Calculation\n",
    "## Client: INTERNAL\n",
    "---\n",
    "## Project: Evaluation of an Air Source Heat Pump in Calgary\n",
    "## Calc: CALC-001, heat pump\n",
    "---\n",
    "## Authentication\n",
    "> Stamp, Permit\n",
    "---\n",
    "## Revision History\n",
    "|Revision | Date | Description | By | Reviewer|\n",
    "| :-------| :----|:------------|:---|:--------|\n",
    "|       | | DRAFT | KCD |  |\n",
    "|         |          |            |     |    |\n",
    "\n",
    "---"
   ]
  },
  {
   "cell_type": "markdown",
   "metadata": {},
   "source": [
    "## Objective\n",
    "\n",
    "The traditional way (and simplest) to heat our homes in Alberta is with a gas fired furnace. However, this is not the only way. An Air Source Heat Pump (ASHP) is essentially a refrigeration unit that tries to cool off the outside air, and push the heat into the house. Heat pumps are fairly common in areas that do not have an extensive natural gas distribution, and are a bit warmer than Alberta.\n",
    "\n",
    "Heat pumps have traditionally been limited to areas with mild winters (over 0 C). This is to prevent frost buildup on the unit.  However, there have been advances in defrosting techniques and Cold Climate Air Source Heat Pump (CCASHP) have been used sucessfully down to -25 C. You can find CCASHP units in Manitoba, and it gets pretty cold there.\n",
    "\n",
    "The objective of this study is to determine if a cold climate air source heat pump (CC-ASHP) is effective in Calgary, in terms of a) cost, b) effective CO2 emissions.\n",
    "\n",
    "How hard can this be?  I get the feeling we might end up shaving a yak [3].\n",
    "\n",
    "![yak_shaving](yak.jpeg)\n",
    "\n"
   ]
  },
  {
   "cell_type": "code",
   "execution_count": 1,
   "metadata": {},
   "outputs": [],
   "source": [
    "import numpy as np\n",
    "import pandas as pd\n",
    "import csv\n",
    "\n",
    "import math as ma\n",
    "import matplotlib.pyplot as plt\n",
    "from sklearn import datasets, linear_model\n",
    "\n",
    "import scipy as sp\n",
    "import copy\n",
    "from scipy import interpolate\n",
    "\n",
    "\n",
    "\n",
    "from sklearn.linear_model import LinearRegression\n",
    "\n",
    "regressor = LinearRegression()\n",
    "\n",
    "\n"
   ]
  },
  {
   "cell_type": "markdown",
   "metadata": {},
   "source": [
    "## Get COP data for the heat pump\n",
    "\n",
    "I found some data for the COP (coefficient of performance) for air source heat pumps.\n",
    "\n",
    "Data from Shen [1]\n",
    "![hp_ref_1](heat_pump_performance.jpg)\n",
    "This has two different data sets for the overall performance (including thaw cycles). The top one (green) shows high COP, but there is only data down to 17 F (-8 C). I don't know if this heat pump can operate at really low temperatures. The bottom two sets (black and fuscia) have a lower COP but the data extends down to -10 F (-23 C), which is applicable for most of the winter conditions in Calgary.\n",
    "\n",
    "Data from an experimental heat pump [2] is available for a wide range of operating conditions (down to -13 F, or -25 C).\n",
    "![hp_ref_2](newCCASHP_COP.jpg)\n",
    "\n",
    "Plotting all data sets...."
   ]
  },
  {
   "cell_type": "code",
   "execution_count": 2,
   "metadata": {},
   "outputs": [],
   "source": [
    "COP1 = pd.read_csv('heat_pump_performance.csv')\n",
    "COP2 = pd.read_csv('heat_pump_performance2.csv')\n",
    "COP = pd.read_csv('newCCASHP_COP.csv');\n",
    "COP1['t_C'] = (COP1['t_F'] - 32.0)* 5.0/9.0;\n",
    "COP2['t_C'] = (COP2['t_F'] - 32.0)* 5.0/9.0;\n",
    "COP['t_C']  = (COP['t_F'] - 32.0)* 5.0/9.0;"
   ]
  },
  {
   "cell_type": "code",
   "execution_count": 3,
   "metadata": {
    "scrolled": true
   },
   "outputs": [
    {
     "data": {
      "image/png": "[encoded data removed]",
      "text/plain": [
       "<Figure size 360x288 with 1 Axes>"
      ]
     },
     "metadata": {
      "needs_background": "light"
     },
     "output_type": "display_data"
    }
   ],
   "source": [
    "plt.figure(figsize=(5, 4))\n",
    "\n",
    "plt.plot(COP1.t_C, COP1.COP, color='orange',linewidth=3,label='Data 1')\n",
    "plt.plot(COP2.t_C, COP2.COP, color='blue',linewidth=3,label='Data 2')\n",
    "plt.plot(COP.t_C, COP.COP, color='red',linewidth=3,label='Research')\n",
    "plt.xlabel('T, C')\n",
    "plt.ylabel('COP')\n",
    "plt.title('Heat pump COP')\n",
    "plt.legend()\n",
    "plt.savefig('copCompare.png',dpi=300)"
   ]
  },
  {
   "cell_type": "markdown",
   "metadata": {},
   "source": [
    "We will use the research data (red line) for estimating the COP as a function of ambient temperature.\n",
    "\n",
    "This is nice, but the ambient temperature changes during the heating season."
   ]
  },
  {
   "cell_type": "markdown",
   "metadata": {},
   "source": [
    "## Heat required for house in winter months\n",
    "\n",
    "The gas bill for my house is\n",
    "<img src=\"gas_bill.png\" style=\"width:200px;height:300px\"/>\n",
    "\n",
    "I also found the average outside temperature for these months (from Environment Canada).\n",
    "\n"
   ]
  },
  {
   "cell_type": "code",
   "execution_count": 4,
   "metadata": {
    "scrolled": true
   },
   "outputs": [
    {
     "data": {
      "text/html": [
       "<div>\n",
       "<style scoped>\n",
       "    .dataframe tbody tr th:only-of-type {\n",
       "        vertical-align: middle;\n",
       "    }\n",
       "\n",
       "    .dataframe tbody tr th {\n",
       "        vertical-align: top;\n",
       "    }\n",
       "\n",
       "    .dataframe thead th {\n",
       "        text-align: right;\n",
       "    }\n",
       "</style>\n",
       "<table border=\"1\" class=\"dataframe\">\n",
       "  <thead>\n",
       "    <tr style=\"text-align: right;\">\n",
       "      <th></th>\n",
       "      <th>Month</th>\n",
       "      <th>GJ</th>\n",
       "      <th>ambientT</th>\n",
       "    </tr>\n",
       "  </thead>\n",
       "  <tbody>\n",
       "    <tr>\n",
       "      <td>0</td>\n",
       "      <td>September</td>\n",
       "      <td>3</td>\n",
       "      <td>13.2</td>\n",
       "    </tr>\n",
       "    <tr>\n",
       "      <td>1</td>\n",
       "      <td>October</td>\n",
       "      <td>13</td>\n",
       "      <td>3.1</td>\n",
       "    </tr>\n",
       "    <tr>\n",
       "      <td>2</td>\n",
       "      <td>November</td>\n",
       "      <td>16</td>\n",
       "      <td>-0.2</td>\n",
       "    </tr>\n",
       "    <tr>\n",
       "      <td>3</td>\n",
       "      <td>December</td>\n",
       "      <td>19</td>\n",
       "      <td>-2.4</td>\n",
       "    </tr>\n",
       "    <tr>\n",
       "      <td>4</td>\n",
       "      <td>January</td>\n",
       "      <td>21</td>\n",
       "      <td>-4.2</td>\n",
       "    </tr>\n",
       "    <tr>\n",
       "      <td>5</td>\n",
       "      <td>February</td>\n",
       "      <td>27</td>\n",
       "      <td>-11.2</td>\n",
       "    </tr>\n",
       "  </tbody>\n",
       "</table>\n",
       "</div>"
      ],
      "text/plain": [
       "       Month  GJ  ambientT\n",
       "0  September   3      13.2\n",
       "1    October  13       3.1\n",
       "2   November  16      -0.2\n",
       "3   December  19      -2.4\n",
       "4    January  21      -4.2\n",
       "5   February  27     -11.2"
      ]
     },
     "execution_count": 4,
     "metadata": {},
     "output_type": "execute_result"
    }
   ],
   "source": [
    "# my fuel consumption data\n",
    "fuelConsumptionTable = {'Month': ['September','October','November','December', 'January','February'],\n",
    "                       'GJ': [3,13, 16, 19, 21, 27],\n",
    "                       'ambientT': [13.2, 3.1, -0.2, -2.4, -4.2, -11.2]}\n",
    "# there is a base load of 2 GJ per month that is not related to temperature.\n",
    "fuelCons = pd.DataFrame(fuelConsumptionTable, columns = ['Month', 'GJ', 'ambientT'])\n",
    "fuelCons"
   ]
  },
  {
   "cell_type": "code",
   "execution_count": 37,
   "metadata": {
    "scrolled": true
   },
   "outputs": [
    {
     "data": {
      "image/png": "[encoded data removed]",
      "text/plain": [
       "<Figure size 360x288 with 1 Axes>"
      ]
     },
     "metadata": {
      "needs_background": "light"
     },
     "output_type": "display_data"
    }
   ],
   "source": [
    "plt.figure(figsize=(5, 4))\n",
    "plt.scatter(fuelCons['ambientT'],fuelCons['GJ'])\n",
    "plt.xlabel('T, C')\n",
    "plt.ylabel('GJ per month')\n",
    "plt.title('Monthly furnace fuel')\n",
    "plt.savefig('monthlyFuel.png',dpi=300)"
   ]
  },
  {
   "cell_type": "markdown",
   "metadata": {},
   "source": [
    "This is fairly linear, as we expect.\n",
    "\n",
    "Now create a simple linear model to relate heat demand as a function of ambient temperature. The data shows a minimum fuel demand of 2 GJ/month in the summer (no furnace heat needed). Also, I will assume that the house heat is 75% of the natural gas fuel value: this is the efficiency of my furnace."
   ]
  },
  {
   "cell_type": "code",
   "execution_count": 6,
   "metadata": {
    "scrolled": true
   },
   "outputs": [
    {
     "data": {
      "image/png": "[encoded data removed]",
      "text/plain": [
       "<Figure size 360x288 with 1 Axes>"
      ]
     },
     "metadata": {
      "needs_background": "light"
     },
     "output_type": "display_data"
    }
   ],
   "source": [
    "# Create linear regression object\n",
    "regr = linear_model.LinearRegression()\n",
    "X = fuelCons['ambientT'].values.reshape(-1,1)\n",
    "\n",
    "# The data is in GJ per month and we want kJ per hour\n",
    "# account for the 2 GJ/month offset in the summer\n",
    "# and use 75% as fuel efficiency of my furnace\n",
    "Y = 0.75*(fuelCons['GJ'].values - 2.0) *1000000/(30*24) \n",
    "\n",
    "# Train the model using the training sets\n",
    "regr.fit(X, Y)\n",
    "\n",
    "# Plot outputs\n",
    "plt.figure(figsize=(5, 4))\n",
    "plt.plot(X, regr.predict(X), color='red',linewidth=3)\n",
    "plt.xlabel('T, C')\n",
    "plt.ylabel('kJ/hr heating rate needed')\n",
    "plt.title('Required heating rate')\n",
    "plt.savefig('heatRate.png',dpi=300)"
   ]
  },
  {
   "cell_type": "code",
   "execution_count": 7,
   "metadata": {
    "scrolled": true
   },
   "outputs": [
    {
     "data": {
      "text/plain": [
       "(14809.736943751916, array([-1039.16372793]))"
      ]
     },
     "execution_count": 7,
     "metadata": {},
     "output_type": "execute_result"
    }
   ],
   "source": [
    "model = LinearRegression().fit(X, Y)\n",
    "(model.intercept_, model.coef_)"
   ]
  },
  {
   "cell_type": "markdown",
   "metadata": {},
   "source": [
    "And we have a function to calculate the heat rate needed by the house (in kJ/hr) as a function of ambient temperature (in deg C).\n",
    "\n",
    "Great, but this is for monthly averages, and we know the ambient temperature changes from hour to hour."
   ]
  },
  {
   "cell_type": "markdown",
   "metadata": {},
   "source": [
    "## Hourly data for ambient temperature\n",
    "\n",
    "This is a yak all to itself. Environment Canada has historical data for many weather stations across Canada.  We want the station for Calgary International Airport because the hourly data goes back about 12 years.\n",
    "\n",
    "Go to the Environment Canada site [4]:\n",
    "\n",
    "https://climate.weather.gc.ca/historical_data/search_historic_data_e.html\n",
    "\n",
    "Find the site you want. We could get data from here, but it would be tedious to get data one month at a time. Instead, copy the HTML address from the site and paste somewhere convenient. For the Calgary International Airport, we get the following HTML address\n",
    "\n",
    "```\n",
    "https://climate.weather.gc.ca/climate_data/hourly_data_e.html?hlyRange=2008-12-22%7C2021-10-09&dlyRange=1999-05-01%7C2021-10-09&mlyRange=2000-06-01%7C2007-11-01&StationID=27211&Prov=AB&urlExtension=_e.html&searchType=stnName&optLimit=yearRange&StartYear=1840&EndYear=2021&selRowPerPage=25&Line=5&searchMethod=contains&Month=10&Day=9&txtStationName=calgary&timeframe=1&Year=2021\n",
    "```\n",
    "The stationID is in this line of text.\n",
    "```\n",
    "StationID=27211\n",
    "```\n",
    "Now we edit a short piece of code to fetch a bunch of data from the command line. This code comes from Environment Canada, we only need to change the StationID variable.\n",
    "\n",
    "\n"
   ]
  },
  {
   "cell_type": "code",
   "execution_count": null,
   "metadata": {},
   "outputs": [],
   "source": [
    "# fetching data from env canada\n",
    "# this is a linux shell script, it runs OK from command line\n",
    "StationID=27211\n",
    "for year in `seq 2006 2021`;\n",
    "    do for month in `seq 1 12`;\n",
    "    do wget --content-disposition \"http://climate.weather.gc.ca/climate_data/bulk_data_e.html?format=csv&stationID=${StationID}&Year=${year}&Month=${month}&Day=14&timeframe=1&submit= Download+Data\" ;\n",
    "    done;\n",
    "done\n"
   ]
  },
  {
   "cell_type": "markdown",
   "metadata": {},
   "source": [
    "Copy all of this code, paste into the command line and hit return.\n",
    "\n",
    "\n",
    "That produces a bunch of files, one for each month, of weather data.\n",
    "\n",
    "Combine all of the files into one large file\n",
    "```\n",
    "cat en_climate_*.csv > data.csv\n",
    "```\n",
    "Then we need to remove all of the header lines (144 of them). We will remove any lines containing Longitude.\n",
    "\n",
    "```\n",
    "grep -v -e Longitude data.csv > data2.csv\n",
    "```\n",
    "\n",
    "And we want the first line from the file data.csv because this contains the headers for the table.\n",
    "```\n",
    "head -n 1 data2.csv > header.csv\n",
    "```\n",
    "and then concatenate the header with the bulk of the data table\n",
    "```\n",
    "cat header.csv data2.csv > calgaryWeather2.csv\n",
    "```\n",
    "We might be able to do all of this using Python, inside the Jupyter Notebook, but I don't know how."
   ]
  },
  {
   "cell_type": "markdown",
   "metadata": {},
   "source": [
    "Now we have 12 years of hourly data for Calgary International Airport (Station ID 27211). Then I created 30 bins for the ambient temperature and determined the number of hours in each bin."
   ]
  },
  {
   "cell_type": "code",
   "execution_count": 30,
   "metadata": {
    "scrolled": false
   },
   "outputs": [
    {
     "name": "stderr",
     "output_type": "stream",
     "text": [
      "/Applications/anaconda3/lib/python3.7/site-packages/IPython/core/interactiveshell.py:3058: DtypeWarning: Columns (12,14,16,24) have mixed types. Specify dtype option on import or set low_memory=False.\n",
      "  interactivity=interactivity, compiler=compiler, result=result)\n"
     ]
    }
   ],
   "source": [
    "# lets get the ambient temperature data\n",
    "weatherData = pd.read_csv('calgaryWeather2.csv');"
   ]
  },
  {
   "cell_type": "code",
   "execution_count": 29,
   "metadata": {},
   "outputs": [
    {
     "data": {
      "text/html": [
       "<div>\n",
       "<style scoped>\n",
       "    .dataframe tbody tr th:only-of-type {\n",
       "        vertical-align: middle;\n",
       "    }\n",
       "\n",
       "    .dataframe tbody tr th {\n",
       "        vertical-align: top;\n",
       "    }\n",
       "\n",
       "    .dataframe thead th {\n",
       "        text-align: right;\n",
       "    }\n",
       "</style>\n",
       "<table border=\"1\" class=\"dataframe\">\n",
       "  <thead>\n",
       "    <tr style=\"text-align: right;\">\n",
       "      <th></th>\n",
       "      <th>Longitude</th>\n",
       "      <th>Latitude</th>\n",
       "      <th>StationName</th>\n",
       "      <th>ClimateID</th>\n",
       "      <th>DateTime</th>\n",
       "      <th>Year</th>\n",
       "      <th>Month</th>\n",
       "      <th>Day</th>\n",
       "      <th>Time</th>\n",
       "      <th>TempC</th>\n",
       "      <th>...</th>\n",
       "      <th>StnPressFlag</th>\n",
       "      <th>Hmdx</th>\n",
       "      <th>HmdxFlag</th>\n",
       "      <th>WindChill</th>\n",
       "      <th>Wind ChillFlag</th>\n",
       "      <th>Weather</th>\n",
       "      <th>realTempC</th>\n",
       "      <th>intMonth</th>\n",
       "      <th>tempBins2</th>\n",
       "      <th>bin_centres</th>\n",
       "    </tr>\n",
       "  </thead>\n",
       "  <tbody>\n",
       "    <tr>\n",
       "      <td>0</td>\n",
       "      <td>-114.0</td>\n",
       "      <td>51.11</td>\n",
       "      <td>CALGARY INT'L CS</td>\n",
       "      <td>3031094</td>\n",
       "      <td>2010-01-01 00:00</td>\n",
       "      <td>2010</td>\n",
       "      <td>1</td>\n",
       "      <td>1</td>\n",
       "      <td>00:00</td>\n",
       "      <td>-21.6</td>\n",
       "      <td>...</td>\n",
       "      <td>NaN</td>\n",
       "      <td>NaN</td>\n",
       "      <td>NaN</td>\n",
       "      <td>NaN</td>\n",
       "      <td>NaN</td>\n",
       "      <td>NaN</td>\n",
       "      <td>-21.6</td>\n",
       "      <td>1</td>\n",
       "      <td>(-23.213, -20.917]</td>\n",
       "      <td>-22.0650</td>\n",
       "    </tr>\n",
       "    <tr>\n",
       "      <td>1</td>\n",
       "      <td>-114.0</td>\n",
       "      <td>51.11</td>\n",
       "      <td>CALGARY INT'L CS</td>\n",
       "      <td>3031094</td>\n",
       "      <td>2010-01-01 01:00</td>\n",
       "      <td>2010</td>\n",
       "      <td>1</td>\n",
       "      <td>1</td>\n",
       "      <td>01:00</td>\n",
       "      <td>-21.2</td>\n",
       "      <td>...</td>\n",
       "      <td>NaN</td>\n",
       "      <td>NaN</td>\n",
       "      <td>NaN</td>\n",
       "      <td>NaN</td>\n",
       "      <td>NaN</td>\n",
       "      <td>NaN</td>\n",
       "      <td>-21.2</td>\n",
       "      <td>1</td>\n",
       "      <td>(-23.213, -20.917]</td>\n",
       "      <td>-22.0650</td>\n",
       "    </tr>\n",
       "    <tr>\n",
       "      <td>2</td>\n",
       "      <td>-114.0</td>\n",
       "      <td>51.11</td>\n",
       "      <td>CALGARY INT'L CS</td>\n",
       "      <td>3031094</td>\n",
       "      <td>2010-01-01 02:00</td>\n",
       "      <td>2010</td>\n",
       "      <td>1</td>\n",
       "      <td>1</td>\n",
       "      <td>02:00</td>\n",
       "      <td>-20.8</td>\n",
       "      <td>...</td>\n",
       "      <td>NaN</td>\n",
       "      <td>NaN</td>\n",
       "      <td>NaN</td>\n",
       "      <td>NaN</td>\n",
       "      <td>NaN</td>\n",
       "      <td>NaN</td>\n",
       "      <td>-20.8</td>\n",
       "      <td>1</td>\n",
       "      <td>(-20.917, -18.62]</td>\n",
       "      <td>-19.7685</td>\n",
       "    </tr>\n",
       "    <tr>\n",
       "      <td>3</td>\n",
       "      <td>-114.0</td>\n",
       "      <td>51.11</td>\n",
       "      <td>CALGARY INT'L CS</td>\n",
       "      <td>3031094</td>\n",
       "      <td>2010-01-01 03:00</td>\n",
       "      <td>2010</td>\n",
       "      <td>1</td>\n",
       "      <td>1</td>\n",
       "      <td>03:00</td>\n",
       "      <td>-20.4</td>\n",
       "      <td>...</td>\n",
       "      <td>NaN</td>\n",
       "      <td>NaN</td>\n",
       "      <td>NaN</td>\n",
       "      <td>NaN</td>\n",
       "      <td>NaN</td>\n",
       "      <td>NaN</td>\n",
       "      <td>-20.4</td>\n",
       "      <td>1</td>\n",
       "      <td>(-20.917, -18.62]</td>\n",
       "      <td>-19.7685</td>\n",
       "    </tr>\n",
       "    <tr>\n",
       "      <td>4</td>\n",
       "      <td>-114.0</td>\n",
       "      <td>51.11</td>\n",
       "      <td>CALGARY INT'L CS</td>\n",
       "      <td>3031094</td>\n",
       "      <td>2010-01-01 04:00</td>\n",
       "      <td>2010</td>\n",
       "      <td>1</td>\n",
       "      <td>1</td>\n",
       "      <td>04:00</td>\n",
       "      <td>-20.4</td>\n",
       "      <td>...</td>\n",
       "      <td>NaN</td>\n",
       "      <td>NaN</td>\n",
       "      <td>NaN</td>\n",
       "      <td>NaN</td>\n",
       "      <td>NaN</td>\n",
       "      <td>NaN</td>\n",
       "      <td>-20.4</td>\n",
       "      <td>1</td>\n",
       "      <td>(-20.917, -18.62]</td>\n",
       "      <td>-19.7685</td>\n",
       "    </tr>\n",
       "  </tbody>\n",
       "</table>\n",
       "<p>5 rows × 34 columns</p>\n",
       "</div>"
      ],
      "text/plain": [
       "   Longitude  Latitude       StationName  ClimateID          DateTime  Year  \\\n",
       "0     -114.0     51.11  CALGARY INT'L CS    3031094  2010-01-01 00:00  2010   \n",
       "1     -114.0     51.11  CALGARY INT'L CS    3031094  2010-01-01 01:00  2010   \n",
       "2     -114.0     51.11  CALGARY INT'L CS    3031094  2010-01-01 02:00  2010   \n",
       "3     -114.0     51.11  CALGARY INT'L CS    3031094  2010-01-01 03:00  2010   \n",
       "4     -114.0     51.11  CALGARY INT'L CS    3031094  2010-01-01 04:00  2010   \n",
       "\n",
       "   Month  Day   Time  TempC  ... StnPressFlag  Hmdx HmdxFlag  WindChill  \\\n",
       "0      1    1  00:00  -21.6  ...          NaN   NaN      NaN        NaN   \n",
       "1      1    1  01:00  -21.2  ...          NaN   NaN      NaN        NaN   \n",
       "2      1    1  02:00  -20.8  ...          NaN   NaN      NaN        NaN   \n",
       "3      1    1  03:00  -20.4  ...          NaN   NaN      NaN        NaN   \n",
       "4      1    1  04:00  -20.4  ...          NaN   NaN      NaN        NaN   \n",
       "\n",
       "  Wind ChillFlag  Weather realTempC  intMonth           tempBins2  bin_centres  \n",
       "0            NaN      NaN     -21.6         1  (-23.213, -20.917]     -22.0650  \n",
       "1            NaN      NaN     -21.2         1  (-23.213, -20.917]     -22.0650  \n",
       "2            NaN      NaN     -20.8         1   (-20.917, -18.62]     -19.7685  \n",
       "3            NaN      NaN     -20.4         1   (-20.917, -18.62]     -19.7685  \n",
       "4            NaN      NaN     -20.4         1   (-20.917, -18.62]     -19.7685  \n",
       "\n",
       "[5 rows x 34 columns]"
      ]
     },
     "execution_count": 29,
     "metadata": {},
     "output_type": "execute_result"
    }
   ],
   "source": [
    "weatherData.head()"
   ]
  },
  {
   "cell_type": "code",
   "execution_count": 10,
   "metadata": {},
   "outputs": [],
   "source": [
    "weatherData['realTempC'] = weatherData['TempC'].astype(float)\n",
    "weatherData['intMonth'] = weatherData['Month'].astype(int)\n",
    "weatherData['tempBins2']= pd.cut(weatherData['realTempC'], bins=30)"
   ]
  },
  {
   "cell_type": "code",
   "execution_count": 11,
   "metadata": {
    "scrolled": true
   },
   "outputs": [
    {
     "data": {
      "image/png": "[encoded data removed]",
      "text/plain": [
       "<Figure size 432x288 with 1 Axes>"
      ]
     },
     "metadata": {
      "needs_background": "light"
     },
     "output_type": "display_data"
    }
   ],
   "source": [
    "histoPlot=weatherData['tempBins2'].value_counts(sort=False).plot.bar()\n",
    "plt.savefig('calgaryHisto.png',dpi=300)"
   ]
  },
  {
   "cell_type": "markdown",
   "metadata": {},
   "source": [
    "The temperature distribution is bimodal, with one peak near 1 C, and the other peak near 12 C. This may illustrate the frequency of chinooks in Calgary."
   ]
  },
  {
   "cell_type": "markdown",
   "metadata": {},
   "source": [
    "The temperature at the midpoint of each bin is needed for modeling work."
   ]
  },
  {
   "cell_type": "code",
   "execution_count": 12,
   "metadata": {},
   "outputs": [],
   "source": [
    "weatherData[\"bin_centres\"] = weatherData[\"tempBins2\"].apply(lambda x: x.mid);"
   ]
  },
  {
   "cell_type": "markdown",
   "metadata": {},
   "source": [
    "Now, normalize the data to determine the number of hours where the ambient temperature falls in each bin."
   ]
  },
  {
   "cell_type": "code",
   "execution_count": 13,
   "metadata": {},
   "outputs": [
    {
     "data": {
      "text/plain": [
       "-31.2860     6.865597\n",
       "-28.9550    22.438782\n",
       "-26.6585    36.756064\n",
       "-24.3615    50.905893\n",
       "-22.0650    74.768031\n",
       "Name: bin_centres, dtype: float64"
      ]
     },
     "execution_count": 13,
     "metadata": {},
     "output_type": "execute_result"
    }
   ],
   "source": [
    "mybin = weatherData['bin_centres'].value_counts(sort=False, normalize=True)*365*24\n",
    "mybin.head()"
   ]
  },
  {
   "cell_type": "markdown",
   "metadata": {},
   "source": [
    "Now we have the number of hours that we can expect to see the temperature as it falls in a given bin. We expect to see a temperature between -30.1 to -32.5 C about 6.9 hours per year. We see temperatures below -25 C about 65 hours per year.\n",
    "\n",
    "It is time to compile the data for our task. We will start with the ambient temperature bins and the number of hours for each bin."
   ]
  },
  {
   "cell_type": "code",
   "execution_count": 14,
   "metadata": {
    "scrolled": true
   },
   "outputs": [
    {
     "data": {
      "text/html": [
       "<div>\n",
       "<style scoped>\n",
       "    .dataframe tbody tr th:only-of-type {\n",
       "        vertical-align: middle;\n",
       "    }\n",
       "\n",
       "    .dataframe tbody tr th {\n",
       "        vertical-align: top;\n",
       "    }\n",
       "\n",
       "    .dataframe thead th {\n",
       "        text-align: right;\n",
       "    }\n",
       "</style>\n",
       "<table border=\"1\" class=\"dataframe\">\n",
       "  <thead>\n",
       "    <tr style=\"text-align: right;\">\n",
       "      <th></th>\n",
       "      <th>t_C</th>\n",
       "      <th>designHours</th>\n",
       "    </tr>\n",
       "  </thead>\n",
       "  <tbody>\n",
       "    <tr>\n",
       "      <td>0</td>\n",
       "      <td>-31.2860</td>\n",
       "      <td>6.865597</td>\n",
       "    </tr>\n",
       "    <tr>\n",
       "      <td>1</td>\n",
       "      <td>-28.9550</td>\n",
       "      <td>22.438782</td>\n",
       "    </tr>\n",
       "    <tr>\n",
       "      <td>2</td>\n",
       "      <td>-26.6585</td>\n",
       "      <td>36.756064</td>\n",
       "    </tr>\n",
       "    <tr>\n",
       "      <td>3</td>\n",
       "      <td>-24.3615</td>\n",
       "      <td>50.905893</td>\n",
       "    </tr>\n",
       "    <tr>\n",
       "      <td>4</td>\n",
       "      <td>-22.0650</td>\n",
       "      <td>74.768031</td>\n",
       "    </tr>\n",
       "  </tbody>\n",
       "</table>\n",
       "</div>"
      ],
      "text/plain": [
       "       t_C  designHours\n",
       "0 -31.2860     6.865597\n",
       "1 -28.9550    22.438782\n",
       "2 -26.6585    36.756064\n",
       "3 -24.3615    50.905893\n",
       "4 -22.0650    74.768031"
      ]
     },
     "execution_count": 14,
     "metadata": {},
     "output_type": "execute_result"
    }
   ],
   "source": [
    "# weatherData['bin_centres'].unique()\n",
    "# lets create dataframes for results\n",
    "ambientT = weatherData['bin_centres'].unique()\n",
    "homeHeat = pd.DataFrame(np.array(list(ambientT.value_counts().index)), columns = ['t_C'])\n",
    "homeHeat['designHours'] = np.array(list(mybin))\n",
    "homeHeat.head()"
   ]
  },
  {
   "cell_type": "markdown",
   "metadata": {},
   "source": [
    "Excellent, but we need the heat rate for each of the temperature bins."
   ]
  },
  {
   "cell_type": "markdown",
   "metadata": {},
   "source": [
    "## Heat rate for each temperature bin\n",
    "\n",
    "Now we can determine the heat rate needed for each of the temperature bins."
   ]
  },
  {
   "cell_type": "code",
   "execution_count": 15,
   "metadata": {},
   "outputs": [
    {
     "data": {
      "text/html": [
       "<div>\n",
       "<style scoped>\n",
       "    .dataframe tbody tr th:only-of-type {\n",
       "        vertical-align: middle;\n",
       "    }\n",
       "\n",
       "    .dataframe tbody tr th {\n",
       "        vertical-align: top;\n",
       "    }\n",
       "\n",
       "    .dataframe thead th {\n",
       "        text-align: right;\n",
       "    }\n",
       "</style>\n",
       "<table border=\"1\" class=\"dataframe\">\n",
       "  <thead>\n",
       "    <tr style=\"text-align: right;\">\n",
       "      <th></th>\n",
       "      <th>t_C</th>\n",
       "      <th>designHours</th>\n",
       "      <th>designHeatRate</th>\n",
       "    </tr>\n",
       "  </thead>\n",
       "  <tbody>\n",
       "    <tr>\n",
       "      <td>0</td>\n",
       "      <td>-31.2860</td>\n",
       "      <td>6.865597</td>\n",
       "      <td>47321.013336</td>\n",
       "    </tr>\n",
       "    <tr>\n",
       "      <td>1</td>\n",
       "      <td>-28.9550</td>\n",
       "      <td>22.438782</td>\n",
       "      <td>44898.722686</td>\n",
       "    </tr>\n",
       "    <tr>\n",
       "      <td>2</td>\n",
       "      <td>-26.6585</td>\n",
       "      <td>36.756064</td>\n",
       "      <td>42512.283185</td>\n",
       "    </tr>\n",
       "    <tr>\n",
       "      <td>3</td>\n",
       "      <td>-24.3615</td>\n",
       "      <td>50.905893</td>\n",
       "      <td>40125.324102</td>\n",
       "    </tr>\n",
       "    <tr>\n",
       "      <td>4</td>\n",
       "      <td>-22.0650</td>\n",
       "      <td>74.768031</td>\n",
       "      <td>37738.884601</td>\n",
       "    </tr>\n",
       "  </tbody>\n",
       "</table>\n",
       "</div>"
      ],
      "text/plain": [
       "       t_C  designHours  designHeatRate\n",
       "0 -31.2860     6.865597    47321.013336\n",
       "1 -28.9550    22.438782    44898.722686\n",
       "2 -26.6585    36.756064    42512.283185\n",
       "3 -24.3615    50.905893    40125.324102\n",
       "4 -22.0650    74.768031    37738.884601"
      ]
     },
     "execution_count": 15,
     "metadata": {},
     "output_type": "execute_result"
    }
   ],
   "source": [
    "ambientT = weatherData['bin_centres'].unique()\n",
    "#designX = list(ambientT.value_counts().index)\n",
    "designX = np.array(list(ambientT.value_counts().index))\n",
    "designHeat = model.predict(designX.reshape(-1,1))\n",
    "homeHeat['designHeatRate'] = designHeat\n",
    "homeHeat.head()\n"
   ]
  },
  {
   "cell_type": "markdown",
   "metadata": {},
   "source": [
    "Nice, but we need the total amount of heat (kJ) for each of these bins, not the heat rate."
   ]
  },
  {
   "cell_type": "markdown",
   "metadata": {},
   "source": [
    "## Heat for each temperature bin\n",
    "\n",
    "We already have the number of hours for each temperature bin. We can multiply the heat rate by the number of hours to get the amount of heat needed for each temperature bin."
   ]
  },
  {
   "cell_type": "code",
   "execution_count": 16,
   "metadata": {
    "scrolled": true
   },
   "outputs": [
    {
     "data": {
      "text/html": [
       "<div>\n",
       "<style scoped>\n",
       "    .dataframe tbody tr th:only-of-type {\n",
       "        vertical-align: middle;\n",
       "    }\n",
       "\n",
       "    .dataframe tbody tr th {\n",
       "        vertical-align: top;\n",
       "    }\n",
       "\n",
       "    .dataframe thead th {\n",
       "        text-align: right;\n",
       "    }\n",
       "</style>\n",
       "<table border=\"1\" class=\"dataframe\">\n",
       "  <thead>\n",
       "    <tr style=\"text-align: right;\">\n",
       "      <th></th>\n",
       "      <th>t_C</th>\n",
       "      <th>designHours</th>\n",
       "      <th>designHeatRate</th>\n",
       "      <th>designHeat</th>\n",
       "    </tr>\n",
       "  </thead>\n",
       "  <tbody>\n",
       "    <tr>\n",
       "      <td>0</td>\n",
       "      <td>-31.2860</td>\n",
       "      <td>6.865597</td>\n",
       "      <td>47321.013336</td>\n",
       "      <td>3.248870e+05</td>\n",
       "    </tr>\n",
       "    <tr>\n",
       "      <td>1</td>\n",
       "      <td>-28.9550</td>\n",
       "      <td>22.438782</td>\n",
       "      <td>44898.722686</td>\n",
       "      <td>1.007473e+06</td>\n",
       "    </tr>\n",
       "    <tr>\n",
       "      <td>2</td>\n",
       "      <td>-26.6585</td>\n",
       "      <td>36.756064</td>\n",
       "      <td>42512.283185</td>\n",
       "      <td>1.562584e+06</td>\n",
       "    </tr>\n",
       "    <tr>\n",
       "      <td>3</td>\n",
       "      <td>-24.3615</td>\n",
       "      <td>50.905893</td>\n",
       "      <td>40125.324102</td>\n",
       "      <td>2.042615e+06</td>\n",
       "    </tr>\n",
       "    <tr>\n",
       "      <td>4</td>\n",
       "      <td>-22.0650</td>\n",
       "      <td>74.768031</td>\n",
       "      <td>37738.884601</td>\n",
       "      <td>2.821662e+06</td>\n",
       "    </tr>\n",
       "  </tbody>\n",
       "</table>\n",
       "</div>"
      ],
      "text/plain": [
       "       t_C  designHours  designHeatRate    designHeat\n",
       "0 -31.2860     6.865597    47321.013336  3.248870e+05\n",
       "1 -28.9550    22.438782    44898.722686  1.007473e+06\n",
       "2 -26.6585    36.756064    42512.283185  1.562584e+06\n",
       "3 -24.3615    50.905893    40125.324102  2.042615e+06\n",
       "4 -22.0650    74.768031    37738.884601  2.821662e+06"
      ]
     },
     "execution_count": 16,
     "metadata": {},
     "output_type": "execute_result"
    }
   ],
   "source": [
    "homeHeat['designHeat'] = homeHeat['designHours'] * homeHeat['designHeatRate']\n",
    "homeHeat.head()"
   ]
  },
  {
   "cell_type": "markdown",
   "metadata": {},
   "source": [
    "Now we need to find the amount of electrical energy needed to move this much heat (for each of the temperature bins)."
   ]
  },
  {
   "cell_type": "markdown",
   "metadata": {},
   "source": [
    "## Determining the COP for each of the temperature bins\n",
    "We will use the graph of COP vs temperature to look up the COP for each of the temperature bins. Divide the amount of heat needed for each bin by the corresponding COP and we get the amount of electrical energy needed for each temperature bin."
   ]
  },
  {
   "cell_type": "code",
   "execution_count": 17,
   "metadata": {
    "scrolled": false
   },
   "outputs": [
    {
     "data": {
      "text/html": [
       "<div>\n",
       "<style scoped>\n",
       "    .dataframe tbody tr th:only-of-type {\n",
       "        vertical-align: middle;\n",
       "    }\n",
       "\n",
       "    .dataframe tbody tr th {\n",
       "        vertical-align: top;\n",
       "    }\n",
       "\n",
       "    .dataframe thead th {\n",
       "        text-align: right;\n",
       "    }\n",
       "</style>\n",
       "<table border=\"1\" class=\"dataframe\">\n",
       "  <thead>\n",
       "    <tr style=\"text-align: right;\">\n",
       "      <th></th>\n",
       "      <th>t_C</th>\n",
       "      <th>designHours</th>\n",
       "      <th>designHeatRate</th>\n",
       "      <th>designHeat</th>\n",
       "      <th>heatpumpCOP</th>\n",
       "      <th>heatpumpElec</th>\n",
       "    </tr>\n",
       "  </thead>\n",
       "  <tbody>\n",
       "    <tr>\n",
       "      <td>0</td>\n",
       "      <td>-31.2860</td>\n",
       "      <td>6.865597</td>\n",
       "      <td>47321.013336</td>\n",
       "      <td>3.248870e+05</td>\n",
       "      <td>1.843021</td>\n",
       "      <td>1.762796e+05</td>\n",
       "    </tr>\n",
       "    <tr>\n",
       "      <td>1</td>\n",
       "      <td>-28.9550</td>\n",
       "      <td>22.438782</td>\n",
       "      <td>44898.722686</td>\n",
       "      <td>1.007473e+06</td>\n",
       "      <td>1.875765</td>\n",
       "      <td>5.370996e+05</td>\n",
       "    </tr>\n",
       "    <tr>\n",
       "      <td>2</td>\n",
       "      <td>-26.6585</td>\n",
       "      <td>36.756064</td>\n",
       "      <td>42512.283185</td>\n",
       "      <td>1.562584e+06</td>\n",
       "      <td>1.908024</td>\n",
       "      <td>8.189541e+05</td>\n",
       "    </tr>\n",
       "    <tr>\n",
       "      <td>3</td>\n",
       "      <td>-24.3615</td>\n",
       "      <td>50.905893</td>\n",
       "      <td>40125.324102</td>\n",
       "      <td>2.042615e+06</td>\n",
       "      <td>1.940290</td>\n",
       "      <td>1.052737e+06</td>\n",
       "    </tr>\n",
       "    <tr>\n",
       "      <td>4</td>\n",
       "      <td>-22.0650</td>\n",
       "      <td>74.768031</td>\n",
       "      <td>37738.884601</td>\n",
       "      <td>2.821662e+06</td>\n",
       "      <td>1.972550</td>\n",
       "      <td>1.430464e+06</td>\n",
       "    </tr>\n",
       "  </tbody>\n",
       "</table>\n",
       "</div>"
      ],
      "text/plain": [
       "       t_C  designHours  designHeatRate    designHeat  heatpumpCOP  \\\n",
       "0 -31.2860     6.865597    47321.013336  3.248870e+05     1.843021   \n",
       "1 -28.9550    22.438782    44898.722686  1.007473e+06     1.875765   \n",
       "2 -26.6585    36.756064    42512.283185  1.562584e+06     1.908024   \n",
       "3 -24.3615    50.905893    40125.324102  2.042615e+06     1.940290   \n",
       "4 -22.0650    74.768031    37738.884601  2.821662e+06     1.972550   \n",
       "\n",
       "   heatpumpElec  \n",
       "0  1.762796e+05  \n",
       "1  5.370996e+05  \n",
       "2  8.189541e+05  \n",
       "3  1.052737e+06  \n",
       "4  1.430464e+06  "
      ]
     },
     "execution_count": 17,
     "metadata": {},
     "output_type": "execute_result"
    }
   ],
   "source": [
    "# get the COP for each of the temperature bins\n",
    "interpType = 'linear'\n",
    "homeHeat['heatpumpCOP'] = interpolate.interp1d(COP['t_C'], COP['COP'],  kind=interpType, bounds_error = False, fill_value=\"extrapolate\", )(designX)\n",
    "homeHeat['heatpumpElec'] = homeHeat['designHeat'] / homeHeat['heatpumpCOP']\n",
    "\n",
    "homeHeat.head()\n"
   ]
  },
  {
   "cell_type": "markdown",
   "metadata": {},
   "source": [
    "We are getting closer, but we need the cost of the electrical power and the amount of natural gas needed to generate the power with a combined cycle gas turbine (CCGT)."
   ]
  },
  {
   "cell_type": "markdown",
   "metadata": {},
   "source": [
    "## Cost of energy\n",
    "\n",
    "Since we are comparing the same fuel (methane) for heating our home with a furnace or driving a CCGT, we can compare only the amount of energy (kJ or GJ) associated with the fuel, either burned in a furnace use used to drive a CCGT.\n",
    "\n",
    "But since we are interested in the amount of CO2 associated with heating our home, we will determine the CO2 intensity for natural gas (methane).\n"
   ]
  },
  {
   "cell_type": "code",
   "execution_count": 18,
   "metadata": {},
   "outputs": [
    {
     "data": {
      "text/plain": [
       "4.965243296921549e-05"
      ]
     },
     "execution_count": 18,
     "metadata": {},
     "output_type": "execute_result"
    }
   ],
   "source": [
    "# get the CO2 intensity for burning methane\n",
    "fuelHHV = 55385.0 # kJ/kg, HHV\n",
    "ch4IntensityCO2 = 44.0/16.0 # one mole of CH4 produces one mole CO2\n",
    "fuelCO2Intensity = ch4IntensityCO2 / fuelHHV\n",
    "fuelCO2Intensity # kg CO2 per kJ\n",
    "# or about 50 kg per GJ"
   ]
  },
  {
   "cell_type": "code",
   "execution_count": 19,
   "metadata": {
    "scrolled": true
   },
   "outputs": [
    {
     "data": {
      "text/plain": [
       "2.2417007164166667"
      ]
     },
     "execution_count": 19,
     "metadata": {},
     "output_type": "execute_result"
    }
   ],
   "source": [
    "# we need the fuel needed to produce 1 kJ of electricity from a CCGT.\n",
    "# Assume this is what provides our electricity\n",
    "CCGTHeatRate = 7649.0              # BTU per kW.hr from NatGas\n",
    "copCCGT      = CCGTHeatRate * 1.0550559 / 3600.0   # BTU / (kJ/s . hr) * 1.055e3 kJ/MMBTU * 1 hr / 3600 sec\n",
    "copFurnace   = 0.9                 # 90% efficient furnace\n",
    "copCCGT  # this is kJ of natural gas fuel per kJ of electricity\n"
   ]
  },
  {
   "cell_type": "markdown",
   "metadata": {},
   "source": [
    "And we also need natural gas prices. These are taken straight from my fuel bill, and consider all of the charges that are pro-rated by GJ of gas useage."
   ]
  },
  {
   "cell_type": "code",
   "execution_count": 20,
   "metadata": {
    "scrolled": false
   },
   "outputs": [
    {
     "data": {
      "text/plain": [
       "(8.78642619838633, 39.2706176673568)"
      ]
     },
     "execution_count": 20,
     "metadata": {},
     "output_type": "execute_result"
    }
   ],
   "source": [
    "fuelPrice = ((193.65-8.52)/(11.86+9.21))  # $ per GJ, and this is equivalent to about 0.03 $ per kW.hr\n",
    "# wholesale gas price is about 3.5$ per GJ for this point in time\n",
    "\n",
    "# and we will have electricity price in $ per GJ\n",
    "# $ per (kJ/s . hr) * 1 hr / 3600 sec * 1e6 kJ/1 GJ\n",
    "elecPrice = (1e6/3600.0) * (217.46 - 20.97 - 7.48 - 6.92)/(941.7+346.3) # total utility bill less local access fee, admin charge rate riders\n",
    "fuelPrice, elecPrice # Dollars per GJ, this is about right. "
   ]
  },
  {
   "cell_type": "markdown",
   "metadata": {},
   "source": [
    "Electricity is about 4.5 times more expensive than natural gas on an energy basis. This difference in cost reflects the efficiency of producing electricity from natural gas (about 40% for a CCGT) and the payment of the capital needed to produce the power.\n",
    "\n",
    "Electricity is much more expensive than natural gas. Things are not looking good for the financial justification of an air source heat pump in Calgary."
   ]
  },
  {
   "cell_type": "code",
   "execution_count": 21,
   "metadata": {
    "scrolled": true
   },
   "outputs": [],
   "source": [
    "# lets create dataframes for results\n",
    "\n",
    "homeHeat['heatpumpGasFuel'] = homeHeat['heatpumpElec'] * copCCGT\n",
    "homeHeat['furnaceFuel']     = homeHeat['designHeat'] / copFurnace\n",
    "homeHeat['heatpumpElecCost']= homeHeat['heatpumpElec'] * elecPrice / 1e6\n",
    "homeHeat['furnaceFuelCost'] = homeHeat['furnaceFuel'] * fuelPrice / 1e6"
   ]
  },
  {
   "cell_type": "markdown",
   "metadata": {},
   "source": [
    "Now we need to apply these cost values. We will drop the temperature bins that do not require heat."
   ]
  },
  {
   "cell_type": "code",
   "execution_count": 22,
   "metadata": {
    "scrolled": false
   },
   "outputs": [
    {
     "data": {
      "text/html": [
       "<div>\n",
       "<style scoped>\n",
       "    .dataframe tbody tr th:only-of-type {\n",
       "        vertical-align: middle;\n",
       "    }\n",
       "\n",
       "    .dataframe tbody tr th {\n",
       "        vertical-align: top;\n",
       "    }\n",
       "\n",
       "    .dataframe thead th {\n",
       "        text-align: right;\n",
       "    }\n",
       "</style>\n",
       "<table border=\"1\" class=\"dataframe\">\n",
       "  <thead>\n",
       "    <tr style=\"text-align: right;\">\n",
       "      <th></th>\n",
       "      <th>t_C</th>\n",
       "      <th>designHours</th>\n",
       "      <th>designHeatRate</th>\n",
       "      <th>designHeat</th>\n",
       "      <th>heatpumpCOP</th>\n",
       "      <th>heatpumpElec</th>\n",
       "      <th>heatpumpGasFuel</th>\n",
       "      <th>furnaceFuel</th>\n",
       "      <th>heatpumpElecCost</th>\n",
       "      <th>furnaceFuelCost</th>\n",
       "    </tr>\n",
       "  </thead>\n",
       "  <tbody>\n",
       "    <tr>\n",
       "      <td>0</td>\n",
       "      <td>-31.2860</td>\n",
       "      <td>6.865597</td>\n",
       "      <td>47321.013336</td>\n",
       "      <td>3.248870e+05</td>\n",
       "      <td>1.843021</td>\n",
       "      <td>1.762796e+05</td>\n",
       "      <td>3.951661e+05</td>\n",
       "      <td>3.609856e+05</td>\n",
       "      <td>6.922609</td>\n",
       "      <td>3.171773</td>\n",
       "    </tr>\n",
       "    <tr>\n",
       "      <td>1</td>\n",
       "      <td>-28.9550</td>\n",
       "      <td>22.438782</td>\n",
       "      <td>44898.722686</td>\n",
       "      <td>1.007473e+06</td>\n",
       "      <td>1.875765</td>\n",
       "      <td>5.370996e+05</td>\n",
       "      <td>1.204017e+06</td>\n",
       "      <td>1.119414e+06</td>\n",
       "      <td>21.092234</td>\n",
       "      <td>9.835649</td>\n",
       "    </tr>\n",
       "    <tr>\n",
       "      <td>2</td>\n",
       "      <td>-26.6585</td>\n",
       "      <td>36.756064</td>\n",
       "      <td>42512.283185</td>\n",
       "      <td>1.562584e+06</td>\n",
       "      <td>1.908024</td>\n",
       "      <td>8.189541e+05</td>\n",
       "      <td>1.835850e+06</td>\n",
       "      <td>1.736205e+06</td>\n",
       "      <td>32.160834</td>\n",
       "      <td>15.255034</td>\n",
       "    </tr>\n",
       "    <tr>\n",
       "      <td>3</td>\n",
       "      <td>-24.3615</td>\n",
       "      <td>50.905893</td>\n",
       "      <td>40125.324102</td>\n",
       "      <td>2.042615e+06</td>\n",
       "      <td>1.940290</td>\n",
       "      <td>1.052737e+06</td>\n",
       "      <td>2.359921e+06</td>\n",
       "      <td>2.269573e+06</td>\n",
       "      <td>41.341633</td>\n",
       "      <td>19.941433</td>\n",
       "    </tr>\n",
       "    <tr>\n",
       "      <td>4</td>\n",
       "      <td>-22.0650</td>\n",
       "      <td>74.768031</td>\n",
       "      <td>37738.884601</td>\n",
       "      <td>2.821662e+06</td>\n",
       "      <td>1.972550</td>\n",
       "      <td>1.430464e+06</td>\n",
       "      <td>3.206673e+06</td>\n",
       "      <td>3.135180e+06</td>\n",
       "      <td>56.175224</td>\n",
       "      <td>27.547029</td>\n",
       "    </tr>\n",
       "  </tbody>\n",
       "</table>\n",
       "</div>"
      ],
      "text/plain": [
       "       t_C  designHours  designHeatRate    designHeat  heatpumpCOP  \\\n",
       "0 -31.2860     6.865597    47321.013336  3.248870e+05     1.843021   \n",
       "1 -28.9550    22.438782    44898.722686  1.007473e+06     1.875765   \n",
       "2 -26.6585    36.756064    42512.283185  1.562584e+06     1.908024   \n",
       "3 -24.3615    50.905893    40125.324102  2.042615e+06     1.940290   \n",
       "4 -22.0650    74.768031    37738.884601  2.821662e+06     1.972550   \n",
       "\n",
       "   heatpumpElec  heatpumpGasFuel   furnaceFuel  heatpumpElecCost  \\\n",
       "0  1.762796e+05     3.951661e+05  3.609856e+05          6.922609   \n",
       "1  5.370996e+05     1.204017e+06  1.119414e+06         21.092234   \n",
       "2  8.189541e+05     1.835850e+06  1.736205e+06         32.160834   \n",
       "3  1.052737e+06     2.359921e+06  2.269573e+06         41.341633   \n",
       "4  1.430464e+06     3.206673e+06  3.135180e+06         56.175224   \n",
       "\n",
       "   furnaceFuelCost  \n",
       "0         3.171773  \n",
       "1         9.835649  \n",
       "2        15.255034  \n",
       "3        19.941433  \n",
       "4        27.547029  "
      ]
     },
     "execution_count": 22,
     "metadata": {},
     "output_type": "execute_result"
    }
   ],
   "source": [
    "# drop the rows where we do not need heat\n",
    "homeHeat.drop(homeHeat[homeHeat.designHeatRate < 0.0].index, inplace=True)\n",
    "homeHeat.head()"
   ]
  },
  {
   "cell_type": "markdown",
   "metadata": {},
   "source": [
    "I think we are almost done with this yak.\n",
    "\n",
    "## Checking results\n",
    "\n",
    "First we will look at the amount of energy needed to keep our house warm, and which temperature consumes the majority of the heat."
   ]
  },
  {
   "cell_type": "code",
   "execution_count": 23,
   "metadata": {
    "scrolled": true
   },
   "outputs": [
    {
     "data": {
      "image/png": "[encoded data removed]",
      "text/plain": [
       "<Figure size 432x288 with 1 Axes>"
      ]
     },
     "metadata": {
      "needs_background": "light"
     },
     "output_type": "display_data"
    }
   ],
   "source": [
    "plt.plot(homeHeat.t_C, homeHeat['heatpumpGasFuel'], color='red',linewidth=3, label='Heat Pump')\n",
    "plt.plot(homeHeat.t_C, homeHeat['furnaceFuel'],     color='blue',linewidth=3, label='Furnace')\n",
    "plt.xlabel('T, C')\n",
    "plt.ylabel('kJ fuel needed')\n",
    "plt.title('Required fuel comparison')\n",
    "plt.legend()\n",
    "plt.savefig('fuelCompare.png',dpi=300)"
   ]
  },
  {
   "cell_type": "markdown",
   "metadata": {},
   "source": [
    "In Calgary, most of our heat is needed between 5 and -15 C, seen with the blue line for the furnace fuel requirement.\n",
    "\n",
    "The heat pump is quite efficient at -5 C. At this temperature, the CCGT needs about half of the natural gas fuel to create the electricity that drives the heat pump. \n",
    "\n",
    "The fuel benefit for the heat pump drops to nothing as the temperature drops to -15 C.\n",
    "\n",
    "What about cost?"
   ]
  },
  {
   "cell_type": "code",
   "execution_count": 24,
   "metadata": {
    "scrolled": false
   },
   "outputs": [
    {
     "data": {
      "image/png": "[encoded data removed]",
      "text/plain": [
       "<Figure size 432x288 with 1 Axes>"
      ]
     },
     "metadata": {
      "needs_background": "light"
     },
     "output_type": "display_data"
    }
   ],
   "source": [
    "plt.plot(homeHeat.t_C, homeHeat['heatpumpElecCost'], color='red',linewidth=3, label='Heat Pump')\n",
    "plt.plot(homeHeat.t_C, homeHeat['furnaceFuelCost'],  color='blue',linewidth=3, label='Furnace')\n",
    "plt.xlabel('T, C')\n",
    "plt.ylabel('Utility cost needed')\n",
    "plt.title('Utility Cost comparison')\n",
    "plt.legend()\n",
    "plt.savefig('costCompare.png',dpi=300)"
   ]
  },
  {
   "cell_type": "markdown",
   "metadata": {},
   "source": [
    "The air source heat pump is more expensive to run than a natural gas furnace. Where the gas furnace has a clear maximum cost for temperatures between -5 to 2 C, the heat pump has a broader region of high operating costs, from -15 to 2 C. While the number of hours drops off at temperatures lower than -5 C, the heat pump becomes less effective. \n",
    "\n",
    "It is useful to look at temperature range that represents the majority of our heating requirements."
   ]
  },
  {
   "cell_type": "code",
   "execution_count": 25,
   "metadata": {
    "scrolled": true
   },
   "outputs": [
    {
     "data": {
      "image/png": "[encoded data removed]",
      "text/plain": [
       "<Figure size 432x288 with 1 Axes>"
      ]
     },
     "metadata": {
      "needs_background": "light"
     },
     "output_type": "display_data"
    }
   ],
   "source": [
    "plt.plot(homeHeat.t_C, homeHeat['heatpumpGasFuel'].cumsum()/1e6, color='red',linewidth=3,label='Heat Pump')\n",
    "plt.plot(homeHeat.t_C, homeHeat['furnaceFuel'].cumsum()/1e6,     color='blue',linewidth=3,label='Furnace')\n",
    "plt.xlabel('T, C')\n",
    "plt.ylabel('GJ fuel')\n",
    "plt.title('Cumulative GJ of fuel')\n",
    "plt.legend()\n",
    "plt.savefig('CUMenergyCompare.png',dpi=300)"
   ]
  },
  {
   "cell_type": "code",
   "execution_count": 35,
   "metadata": {
    "scrolled": true
   },
   "outputs": [
    {
     "data": {
      "text/plain": [
       "(3790.0375989612353,\n",
       " 5418.996715989588,\n",
       " 'kg/yr CO2 emissions for heat pump and furnace')"
      ]
     },
     "execution_count": 35,
     "metadata": {},
     "output_type": "execute_result"
    }
   ],
   "source": [
    "(homeHeat['heatpumpGasFuel'].sum()*fuelCO2Intensity,\n",
    "homeHeat['furnaceFuel'].sum()*fuelCO2Intensity,\n",
    " 'kg/yr CO2 emissions for heat pump and furnace')"
   ]
  },
  {
   "cell_type": "markdown",
   "metadata": {},
   "source": [
    "The amount of natural gas energy needed for the gas furnace or the electrical power to drive the heat pump is identical below -15 C. Above -10 C the efficiency of the heat pump over the gas furnace is clear.\n",
    "\n",
    "Over the entire heating season, the heat pump is associated with a 30% reducion in CO2 emissions (from the CCGT power plant) compared to the CO2 emissions from the gas furnace ."
   ]
  },
  {
   "cell_type": "code",
   "execution_count": 27,
   "metadata": {
    "scrolled": false
   },
   "outputs": [
    {
     "data": {
      "image/png": "[encoded data removed]",
      "text/plain": [
       "<Figure size 432x288 with 1 Axes>"
      ]
     },
     "metadata": {
      "needs_background": "light"
     },
     "output_type": "display_data"
    }
   ],
   "source": [
    "plt.plot(homeHeat.t_C, homeHeat['heatpumpElecCost'].cumsum(), color='red',linewidth=3, label='Heat Pump')\n",
    "plt.plot(homeHeat.t_C, homeHeat['furnaceFuelCost'].cumsum(),  color='blue',linewidth=3, label='Furnace')\n",
    "plt.xlabel('T, C')\n",
    "plt.ylabel('GJ fuel')\n",
    "plt.title('Cumulative Cost')\n",
    "plt.legend()\n",
    "plt.savefig('CUMcostCompare.png',dpi=300)\n"
   ]
  },
  {
   "cell_type": "code",
   "execution_count": 28,
   "metadata": {
    "scrolled": true
   },
   "outputs": [
    {
     "data": {
      "text/plain": [
       "(1337.189895319742, 958.9382003468155)"
      ]
     },
     "execution_count": 28,
     "metadata": {},
     "output_type": "execute_result"
    }
   ],
   "source": [
    "homeHeat['heatpumpElecCost'].sum(), homeHeat['furnaceFuelCost'].sum()"
   ]
  },
  {
   "cell_type": "markdown",
   "metadata": {},
   "source": [
    "Cost tells a different story. The heat pump is always more expensive to operate than a natural gas furnace.\n",
    "\n",
    "Over the heating season, the heat pump is 40% more expensive to operate (in fuel cost) than the natural gas furnace."
   ]
  },
  {
   "cell_type": "markdown",
   "metadata": {},
   "source": [
    "## After thoughts\n",
    "I did not expect an air source heat pump to be a viable option for Calgary, in terms of overall fuel consumption (CO2 emissions) or cost. I was surprised by the result.\n",
    "\n",
    "Even though Alberta produces electricity by burning natural gas in a CCGT, and Calgary winters are a bit cold, the cold climate air source heat pump should yield a 30% savings on CO2 emissions over an efficient natural gas furnace. I suspect the gas furnace is still needed on those infrequent hours where the air temperature is below -25 C. \n",
    "\n",
    "But the gas furnace still wins (in Calgary) in terms of utility cost. As well, installing a gas furnace is less expensive than installing a heat pump.\n",
    "\n",
    "The results depend on the ambient temperature. Edmonton has colder winters than Calgary. I expect the furnace to be the winner in terms of both CO2 emissions and fuel cost in Edmonton.\n",
    "\n",
    "However, people living near warmer cities such as Lethbridge and Medicine Hat may find that a cold climate heat pump is cost effective, and offers a significant reduction in CO2 emissions.\n",
    "\n",
    "Happy yak shaving."
   ]
  },
  {
   "cell_type": "markdown",
   "metadata": {},
   "source": [
    "## References\n",
    "1. Shen, High Efficiency Cold Climate Heat Pump, 2017 Building Technologies Office Peer Review (2017)\n",
    "2. Tom Marsik and others, Air Source Heat Pumps in Cold Climates, NREL, CCHRC (slide 9) (2018)\n",
    "3. Yak shaving, https://americanexpress.io/yak-shaving/\n",
    "4. Environment Canada Historical Climate Data, https://climate.weather.gc.ca/historical_data/search_historic_data_e.html"
   ]
  }
 ],
 "metadata": {
  "kernelspec": {
   "display_name": "Python 3",
   "language": "python",
   "name": "python3"
  },
  "language_info": {
   "codemirror_mode": {
    "name": "ipython",
    "version": 3
   },
   "file_extension": ".py",
   "mimetype": "text/x-python",
   "name": "python",
   "nbconvert_exporter": "python",
   "pygments_lexer": "ipython3",
   "version": "3.7.4"
  }
 },
 "nbformat": 4,
 "nbformat_minor": 5
}
